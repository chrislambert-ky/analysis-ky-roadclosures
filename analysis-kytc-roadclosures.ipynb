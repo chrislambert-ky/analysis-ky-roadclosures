{
 "cells": [
  {
   "cell_type": "code",
   "execution_count": null,
   "metadata": {},
   "outputs": [],
   "source": [
    "#Developed using Python 3.11.7\n",
    "import pandas as pd\n"
   ]
  },
  {
   "cell_type": "code",
   "execution_count": null,
   "metadata": {},
   "outputs": [],
   "source": [
    "#I want to be able to answer the following questions:\n",
    "#How many statewide total road closures per year?\n",
    "#How many annual road closures per county?\n",
    "#How often, or how frequently, is a single road being closed due to rainfall?\n"
   ]
  },
  {
   "cell_type": "code",
   "execution_count": null,
   "metadata": {},
   "outputs": [],
   "source": [
    "#analyze the 2021 dataset.  \n",
    "#in memory only.  \n",
    "#I need to clean this dataframe and then continue with the rest of the script.\n",
    "\n",
    "df2021=pd.read_csv(\"https://storage.googleapis.com/kytc-its-2020-openrecords/toc/KYTC-TOC-Weather-Closures-Historic-2021.csv\")\n",
    "df2021.to_csv(\"KYTC-TOC-Weather-Closures-Historic-2021.csv\", index=False)\n",
    "\n",
    "#1) the url needs to be cleaned.  I assume a find/replace would work here.\n",
    "df2021['Route_Link'] = df2021['Route_Link'].str.replace('https://kytc.maps.arcgis.com/apps/webappviewer/index.html?id=327a38decc8c4e5cb882dc6cd0f9d45d&zoom=14&center=', '')\n",
    "df2021[['longitude','latitude']] = df2021.Route_Link.str.split(\",\",expand=True,)\n",
    "df2021 = df2021.drop('Route_Link', axis=1)\n",
    "\n",
    "#2) the reported_on time and the end_date are different timestamps.  I need to clean that before I can calculate the duration.\n",
    "df2021['End_Date'] = df2021['End_Date'].str.replace('+00:00', '')\n",
    "df2021['Duration_Default'] = pd.to_datetime(df2021['End_Date']) - pd.to_datetime(df2021['Reported_On'])\n",
    "df2021['Duration_Hours'] = df2021['Duration_Default'].dt.total_seconds() / 3600\n",
    "\n",
    "print(df2021.head(5))\n",
    "df2021.to_csv(\"kytc-closures-2021.csv\", index=False)\n"
   ]
  },
  {
   "cell_type": "code",
   "execution_count": null,
   "metadata": {},
   "outputs": [],
   "source": [
    "#analyze the 2022 dataset\n",
    "\n",
    "df2022=pd.read_csv(\"https://storage.googleapis.com/kytc-its-2020-openrecords/toc/KYTC-TOC-Weather-Closures-Historic-2022.csv\")\n",
    "df2022.to_csv(\"KYTC-TOC-Weather-Closures-Historic-2022.csv\", index=False)\n",
    "\n",
    "#1) the url needs to be cleaned.  I assume a find/replace would work here.\n",
    "#2) the reported_on time and the end_date are different timestamps.  I need to clean that before I can calculate the duration.\n",
    "\n",
    "df2022.to_csv(\"kytc-closures-2022.csv\", index=False)"
   ]
  },
  {
   "cell_type": "code",
   "execution_count": null,
   "metadata": {},
   "outputs": [],
   "source": [
    "\n",
    "#analyze the 2023 dataset\n",
    "\n",
    "df2023=pd.read_csv(\"https://storage.googleapis.com/kytc-its-2020-openrecords/toc/KYTC-TOC-Weather-Closures-Historic-2023.csv\")\n",
    "df2023.to_csv(\"KYTC-TOC-Weather-Closures-Historic-2023.csv\", index=False)\n",
    "\n",
    "#1) the url needs to be cleaned.  I assume a find/replace would work here.\n",
    "#2) the reported_on time and the end_date are different timestamps.  I need to clean that before I can calculate the duration.\n",
    "\n",
    "df2023.to_csv(\"kytc-closures-2023.csv\", index=False)"
   ]
  },
  {
   "cell_type": "code",
   "execution_count": null,
   "metadata": {},
   "outputs": [],
   "source": [
    "\n",
    "#analyze the 2024 dataset\n",
    "\n",
    "df2024=pd.read_csv(\"https://storage.googleapis.com/kytc-its-2020-openrecords/toc/KYTC-TOC-Weather-Closures-Historic-2024.csv\")\n",
    "df2024.to_csv(\"KYTC-TOC-Weather-Closures-Historic-2024.csv\", index=False)\n",
    "\n",
    "#1) the url needs to be cleaned.  I assume a find/replace would work here.\n",
    "#2) the reported_on time and the end_date are different timestamps.  I need to clean that before I can calculate the duration.\n",
    "\n",
    "df2024.to_csv(\"kytc-closures-2024.csv\", index=False)"
   ]
  }
 ],
 "metadata": {
  "kernelspec": {
   "display_name": ".venv",
   "language": "python",
   "name": "python3"
  },
  "language_info": {
   "codemirror_mode": {
    "name": "ipython",
    "version": 3
   },
   "file_extension": ".py",
   "mimetype": "text/x-python",
   "name": "python",
   "nbconvert_exporter": "python",
   "pygments_lexer": "ipython3",
   "version": "3.11.7"
  }
 },
 "nbformat": 4,
 "nbformat_minor": 2
}
