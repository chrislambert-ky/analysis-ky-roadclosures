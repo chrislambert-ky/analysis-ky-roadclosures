{
 "cells": [
  {
   "cell_type": "code",
   "execution_count": 4,
   "metadata": {},
   "outputs": [],
   "source": [
    "#Developed using Python 3.11.7\n",
    "\n",
    "import pandas as pd\n"
   ]
  },
  {
   "cell_type": "code",
   "execution_count": 5,
   "metadata": {},
   "outputs": [],
   "source": [
    "#load csv files into memory and dump them into the local directory\n",
    "\n",
    "df2021=pd.read_csv(\"https://storage.googleapis.com/kytc-its-2020-openrecords/toc/KYTC-TOC-Weather-Closures-Historic-2021.csv\")\n",
    "df2021.to_csv(\"KYTC-TOC-Weather-Closures-Historic-2021.csv\", index=False)\n",
    "\n",
    "df2022=pd.read_csv(\"https://storage.googleapis.com/kytc-its-2020-openrecords/toc/KYTC-TOC-Weather-Closures-Historic-2022.csv\")\n",
    "df2022.to_csv(\"KYTC-TOC-Weather-Closures-Historic-2022.csv\", index=False)\n",
    "\n",
    "df2023=pd.read_csv(\"https://storage.googleapis.com/kytc-its-2020-openrecords/toc/KYTC-TOC-Weather-Closures-Historic-2023.csv\")\n",
    "df2023.to_csv(\"KYTC-TOC-Weather-Closures-Historic-2023.csv\", index=False)\n",
    "\n",
    "df2024=pd.read_csv(\"https://storage.googleapis.com/kytc-its-2020-openrecords/toc/KYTC-TOC-Weather-Closures-Historic-2024.csv\")\n",
    "df2024.to_csv(\"KYTC-TOC-Weather-Closures-Historic-2024.csv\", index=False)\n"
   ]
  },
  {
   "cell_type": "code",
   "execution_count": null,
   "metadata": {},
   "outputs": [],
   "source": [
    "#I want to be able to answer the following questions:\n",
    "#How many statewide total road closures per year?\n",
    "#How many annual road closures per county?\n",
    "#How often, or how frequently, is a single road being closed due to rainfall?\n"
   ]
  },
  {
   "cell_type": "code",
   "execution_count": 2,
   "metadata": {},
   "outputs": [
    {
     "name": "stdout",
     "output_type": "stream",
     "text": [
      "   District    County    Route          Road_Name  Begin_MP  End_MP  \\\n",
      "0         1   Ballard  KY-1345           MYERS RD       2.0     2.0   \n",
      "1         1   Ballard  KY-1345           MYERS RD       2.0     2.0   \n",
      "2         1  Calloway  KY-1536  OUTLAND SCHOOL RD       1.0     1.0   \n",
      "3         1  Calloway   KY-280        SPEAKER TRL      11.0    11.0   \n",
      "4         1  Calloway   KY-280        SPEAKER TRL      11.0    11.0   \n",
      "\n",
      "                                            Comments          Reported_On  \\\n",
      "0  KY 1345/Myers Road Blocked at 2mm in Ballard C...  2021-07-28 00:05:00   \n",
      "1  KY 1345/Myers Road Blocked both directions at ...  2021-07-28 00:05:00   \n",
      "2  Blocked just north of the intersection with Cl...  2021-12-06 13:00:00   \n",
      "3  All lanes blocked in both directions due to br...  2021-08-21 07:00:00   \n",
      "4               ALL LANES BLOCKED IN BOTH DIRECTIONS  2021-08-21 07:00:00   \n",
      "\n",
      "              End_Date   longitude   latitude Duration_Default  Duration_Hours  \n",
      "0  2021-07-28 04:14:01  -88.979133  37.005148  0 days 04:09:01        4.150278  \n",
      "1  2021-07-28 16:04:01  -88.979133  37.005148  0 days 15:59:01       15.983611  \n",
      "2  2021-12-07 16:58:01  -88.255129  36.609757  1 days 03:58:01       27.966944  \n",
      "3  2021-08-26 20:58:02  -88.171714  36.569677  5 days 13:58:02      133.967222  \n",
      "4  2021-08-21 18:06:01  -88.171714  36.569677  0 days 11:06:01       11.100278  \n"
     ]
    }
   ],
   "source": [
    "#in memory only.  I need to clean this dataframe and then continue with the rest of the script.\n",
    "\n",
    "df2021=pd.read_csv(\"https://storage.googleapis.com/kytc-its-2020-openrecords/toc/KYTC-TOC-Weather-Closures-Historic-2021.csv\")\n",
    "\n",
    "#1) the url needs to be cleaned.  I assume a find/replace would work here.\n",
    "df2021['Route_Link'] = df2021['Route_Link'].str.replace('https://kytc.maps.arcgis.com/apps/webappviewer/index.html?id=327a38decc8c4e5cb882dc6cd0f9d45d&zoom=14&center=', '')\n",
    "df2021[['longitude','latitude']] = df2021.Route_Link.str.split(\",\",expand=True,)\n",
    "df2021 = df2021.drop('Route_Link', axis=1)\n",
    "\n",
    "#2) the reported_on time and the end_date are different timestamps.  I need to clean that before I can calculate the duration.\n",
    "df2021['End_Date'] = df2021['End_Date'].str.replace('+00:00', '')\n",
    "df2021['Duration_Default'] = pd.to_datetime(df2021['End_Date']) - pd.to_datetime(df2021['Reported_On'])\n",
    "df2021['Duration_Hours'] = df2021['Duration_Default'].dt.total_seconds() / 3600\n",
    "\n",
    "print(df2021.head(5))\n",
    "df2021.to_csv(\"test.csv\", index=False)\n"
   ]
  },
  {
   "cell_type": "code",
   "execution_count": null,
   "metadata": {},
   "outputs": [],
   "source": [
    "#analyze the 2022 dataset\n",
    "#df2022.info()"
   ]
  },
  {
   "cell_type": "code",
   "execution_count": null,
   "metadata": {},
   "outputs": [],
   "source": [
    "#analyze the 2023 dataset\n",
    "#df2023.info()"
   ]
  },
  {
   "cell_type": "code",
   "execution_count": null,
   "metadata": {},
   "outputs": [],
   "source": [
    "#analyze the 2024 dataset\n",
    "#df2024.info()"
   ]
  }
 ],
 "metadata": {
  "kernelspec": {
   "display_name": ".venv",
   "language": "python",
   "name": "python3"
  },
  "language_info": {
   "codemirror_mode": {
    "name": "ipython",
    "version": 3
   },
   "file_extension": ".py",
   "mimetype": "text/x-python",
   "name": "python",
   "nbconvert_exporter": "python",
   "pygments_lexer": "ipython3",
   "version": "3.11.7"
  }
 },
 "nbformat": 4,
 "nbformat_minor": 2
}
