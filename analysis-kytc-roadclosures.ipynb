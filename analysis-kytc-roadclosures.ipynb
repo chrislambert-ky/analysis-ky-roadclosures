{
 "cells": [
  {
   "cell_type": "markdown",
   "metadata": {},
   "source": [
    "This notebook is being developed as part of the Code Kentucky Python Data Analyst pathway.<br>\n",
    "\n",
    "Technical Specifications:\n",
    "- Python 3.11.7<br>\n",
    "- Instructions on setting up a Python virtual environment are contained towards the bottom of the README.md<br>\n",
    "- Dependencies are available by running the following command: pip install -r requirements.txt\n",
    "\n",
    "Code Kentucky Required Features #1, 2, 4, 5 are contained in the first cell blocks.<br>\n",
    "- Feature #1: Read multiple data files (JSON, CSV, Excel, etc.)<br>\n",
    "- Feature #2: Clean the data and perform a pandas merge, then calculate some new values based on the new data set.<br>\n",
    "- Feature #4:  Utilize a Python virtual environment and include instructions in your README on how the user should set one up."
   ]
  },
  {
   "cell_type": "markdown",
   "metadata": {},
   "source": [
    "Goal: Quantify the impact of road closures based on three metrics:\n",
    "1) Total number of closures<br>\n",
    "2) Frequency of closures<br>\n",
    "3) Duration of closures.<br>\n",
    "\n",
    "The list below are a few sample questions that I hope to answer:<br>\n",
    "1) How many closures occur statewide each year? (Normal bar graph showing count per year?)<br>\n",
    "2) How many road closures occur in each county per year? (Normal bar graph with year as x-axis and count of closures?)<br>\n",
    "3) How often, or how frequently, is a single road being closed due to rainfall? (Horizonatal bar graph with roadname as Y axis or pivot table output?)<br>\n",
    "4) What is the average duration of road closures?\n",
    "\n",
    "Methodology:\n",
    "1) Import/load road closure data directly from hosted web server into Pandas.<br>\n",
    "2) Parse out the Latitude and Longitude by stripping unneeded hyperlink characters.<br>\n",
    "3) Produce standalone latitude and longitude columns/fields, which is preferred for mapping in most BI software.<br>\n",
    "3) Standardize timestamps to assist with calculating duration.<br>\n",
    "4) Modify the duration calculation to show hours as float64, making it easier to use in popular BI tools.<br>\n",
    "5) Summarize the results by year, county, and roadway using record counts and caculated durations.\n",
    "6) If time allows, develop an overall score that takes into consideration the frequency and duration of events.\n",
    "\n",
    "DISCLAIMER:  Results may vary.  In addition to historic data, this notebook is also utilizing current year data.  The data source is updated every 2 minutes but only when there are active road closures due to weather related events.\n",
    "\n",
    "-Chris Lambert"
   ]
  },
  {
   "cell_type": "code",
   "execution_count": 1,
   "metadata": {},
   "outputs": [],
   "source": [
    "#Import Python Libraries / Dependencies\n",
    "import pandas as pd"
   ]
  },
  {
   "cell_type": "code",
   "execution_count": 2,
   "metadata": {},
   "outputs": [
    {
     "name": "stdout",
     "output_type": "stream",
     "text": [
      "   District    County    Route          Road_Name  Begin_MP  End_MP  \\\n",
      "0         1   Ballard  KY-1345           MYERS RD       2.0     2.0   \n",
      "1         1   Ballard  KY-1345           MYERS RD       2.0     2.0   \n",
      "2         1  Calloway  KY-1536  OUTLAND SCHOOL RD       1.0     1.0   \n",
      "\n",
      "                                            Comments          Reported_On  \\\n",
      "0  KY 1345/Myers Road Blocked at 2mm in Ballard C...  2021-07-28 00:05:00   \n",
      "1  KY 1345/Myers Road Blocked both directions at ...  2021-07-28 00:05:00   \n",
      "2  Blocked just north of the intersection with Cl...  2021-12-06 13:00:00   \n",
      "\n",
      "              End_Date   longitude   latitude Duration_Default  Duration_Hours  \n",
      "0  2021-07-28 04:14:01  -88.979133  37.005148  0 days 04:09:01        4.150278  \n",
      "1  2021-07-28 16:04:01  -88.979133  37.005148  0 days 15:59:01       15.983611  \n",
      "2  2021-12-07 16:58:01  -88.255129  36.609757  1 days 03:58:01       27.966944  \n"
     ]
    }
   ],
   "source": [
    "#Analyze the 2021 dataset.\n",
    "#I prefer to perform the import and cleaning in-memory as opposed to using local files.\n",
    "\n",
    "#Load the 2021 dataset from the web server. \n",
    "df2021=pd.read_csv(\"https://storage.googleapis.com/kytc-its-2020-openrecords/toc/KYTC-TOC-Weather-Closures-Historic-2021.csv\")\n",
    "\n",
    "#Export the 2021 dataset to a csv file as a method of copying the data to the local machine. \n",
    "df2021.to_csv(\"KYTC-TOC-Weather-Closures-Historic-2021.csv\", index=False)\n",
    "\n",
    "#The url needs to be cleaned to reveal the latitude and longitude, just in case I need them for mapping.  \n",
    "#I assume a strip that essentially performs a find/replace would work here.\n",
    "df2021['Route_Link'] = df2021['Route_Link'].str.replace('https://kytc.maps.arcgis.com/apps/webappviewer/index.html?id=327a38decc8c4e5cb882dc6cd0f9d45d&zoom=14&center=', '')\n",
    "df2021[['longitude','latitude']] = df2021.Route_Link.str.split(\",\",expand=True,)\n",
    "df2021 = df2021.drop('Route_Link', axis=1)\n",
    "\n",
    "#I need to clean that before I can calculate the duration.\n",
    "#The reported_on time and the end_date are different timestamps.\n",
    "df2021['End_Date'] = df2021['End_Date'].str.replace('+00:00', '')\n",
    "df2021['Duration_Default'] = pd.to_datetime(df2021['End_Date']) - pd.to_datetime(df2021['Reported_On'])\n",
    "df2021['Duration_Hours'] = df2021['Duration_Default'].dt.total_seconds() / 3600\n",
    "\n",
    "#Print the first 3 rows just to check the data.\n",
    "print(df2021.head(3))\n",
    "\n",
    "#Export the clean 2021 dataset to a csv file to show progress.\n",
    "df2021.to_csv(\"kytc-closures-2021.csv\", index=False)\n"
   ]
  },
  {
   "cell_type": "code",
   "execution_count": 16,
   "metadata": {},
   "outputs": [
    {
     "name": "stdout",
     "output_type": "stream",
     "text": [
      "District                      int64\n",
      "County                       object\n",
      "Route                        object\n",
      "Road_Name                    object\n",
      "Begin_MP                    float64\n",
      "End_MP                      float64\n",
      "Comments                     object\n",
      "Reported_On                  object\n",
      "End_Date                     object\n",
      "longitude                    object\n",
      "latitude                     object\n",
      "Duration_Default    timedelta64[ns]\n",
      "Duration_Hours              float64\n",
      "dtype: object\n"
     ]
    }
   ],
   "source": [
    "dtypes = df2021.dtypes\n",
    "print(dtypes)"
   ]
  },
  {
   "cell_type": "code",
   "execution_count": 3,
   "metadata": {},
   "outputs": [
    {
     "name": "stdout",
     "output_type": "stream",
     "text": [
      "   District    County    Route Road_Name  Begin_MP  End_MP  \\\n",
      "0         1  Carlisle   KY-121  KY-121 N       7.3     7.3   \n",
      "1         1  Carlisle  KY-1628   KY-1628       2.0     2.0   \n",
      "2         1  Carlisle  KY-1628   KY-1628       2.0     2.0   \n",
      "\n",
      "                                            Comments          Reported_On  \\\n",
      "0  Roadway blocked due to flooding. Updates as av...  2022-04-12 08:56:00   \n",
      "1                 Roadway Closed due to Flood damage  2022-04-26 08:11:00   \n",
      "2  Roadway blocked due to flood damage. Updates a...  2022-04-26 08:11:00   \n",
      "\n",
      "              End_Date   latitude   longitude Duration_Default  Duration_Hours  \n",
      "0  2022-04-12 10:04:00  36.907913  -88.917011  0 days 01:08:00        1.133333  \n",
      "1  2022-04-26 10:50:00  36.922194  -88.898473  0 days 02:39:00        2.650000  \n",
      "2  2022-04-28 08:02:01  36.922194  -88.898473  1 days 23:51:01       47.850278  \n"
     ]
    }
   ],
   "source": [
    "#Analyze the 2022 dataset.\n",
    "\n",
    "#Load the 2022 dataset from the web server. \n",
    "df2022=pd.read_csv(\"https://storage.googleapis.com/kytc-its-2020-openrecords/toc/KYTC-TOC-Weather-Closures-Historic-2022.csv\")\n",
    "\n",
    "#Export the 2022 dataset to a csv file as a method of copying the data to the local machine. \n",
    "df2022.to_csv(\"KYTC-TOC-Weather-Closures-Historic-2022.csv\", index=False)\n",
    "\n",
    "#The url needs to be cleaned.\n",
    "#Beginning in 2022, the url is different, requiring some additional stripping.\n",
    "#The latitude and longiturde are in a different order in this url.\n",
    "df2022['Route_Link'] = df2022['Route_Link'].str.replace('https://goky.ky.gov/?lat=','')\n",
    "df2022['Route_Link'] = df2022['Route_Link'].str.replace('&lng=',',')\n",
    "df2022['Route_Link'] = df2022['Route_Link'].str.replace('&zoom=14','')\n",
    "df2022[['latitude','longitude']] = df2022.Route_Link.str.split(\",\",expand=True,)\n",
    "df2022 = df2022.drop('Route_Link', axis=1)\n",
    "\n",
    "#I need to clean that before I can calculate the duration.\n",
    "#The reported_on time and the end_date are the same timestamps but I'm keeping the strip code in just in case.\n",
    "df2022['End_Date'] = df2022['End_Date'].str.replace('+00:00', '')\n",
    "df2022['Duration_Default'] = pd.to_datetime(df2022['End_Date']) - pd.to_datetime(df2022['Reported_On'])\n",
    "df2022['Duration_Hours'] = df2022['Duration_Default'].dt.total_seconds() / 3600\n",
    "\n",
    "#Print the first 3 rows just to check the data.\n",
    "print(df2022.head(3))\n",
    "\n",
    "#Export the clean 2022 dataset to a csv file to show progress.\n",
    "df2022.to_csv(\"kytc-closures-2022.csv\", index=False)\n"
   ]
  },
  {
   "cell_type": "code",
   "execution_count": 4,
   "metadata": {},
   "outputs": [
    {
     "name": "stdout",
     "output_type": "stream",
     "text": [
      "   District   County   Route          Road_Name  Begin_MP  End_MP  \\\n",
      "0         1  Ballard  KY-310  TURNER LANDING RD       6.0     6.0   \n",
      "1         1  Ballard  KY-310  TURNER LANDING RD       6.0     6.0   \n",
      "2         1  Ballard  KY-358     HINKLEVILLE RD       4.0     4.0   \n",
      "\n",
      "                                            Comments          Reported_On  \\\n",
      "0  Roadway blocked due to flooding. Updates as av...  2023-07-19 17:58:02   \n",
      "1     Road blocked due to flooding at this location.  2023-07-26 12:29:13   \n",
      "2  Roadway blocked due to flooding. Updates as av...  2023-07-19 18:00:48   \n",
      "\n",
      "              End_Date   latitude   longitude Duration_Default  Duration_Hours  \n",
      "0  2023-07-22 20:02:01  37.131104    -89.0201  3 days 02:03:59       74.066389  \n",
      "1  2023-07-26 15:10:01  37.131104    -89.0201  0 days 02:40:48        2.680000  \n",
      "2  2023-07-22 20:06:00  37.046533  -88.933658  3 days 02:05:12       74.086667  \n"
     ]
    }
   ],
   "source": [
    "#Analyze the 2023 dataset.\n",
    "#An error was found in the 2023 Route_Link column.\n",
    "#The ending characters were incorrectly published and included the roadname in additon to the zoom level.\n",
    "\n",
    "#Load the 2022 dataset from the web server. \n",
    "df2023=pd.read_csv(\"https://storage.googleapis.com/kytc-its-2020-openrecords/toc/KYTC-TOC-Weather-Closures-Historic-2023.csv\")\n",
    "\n",
    "#Export the 2022 dataset to a csv file as a method of copying the data to the local machine. \n",
    "df2023.to_csv(\"KYTC-TOC-Weather-Closures-Historic-2023.csv\", index=False)\n",
    "\n",
    "#The url needs to be cleaned.\n",
    "#Beginning in 2022, the url is different, requiring some additional stripping.\n",
    "#The placement of latitude and longitude are consistent between 2022-2024 but the ending of the URL in 2023 forced me to use a regex.\n",
    "df2023['Route_Link'] = df2023['Route_Link'].str.replace('https://goky.ky.gov/?lat=','')\n",
    "df2023['Route_Link'] = df2023['Route_Link'].str.replace('&lng=',',')\n",
    "df2023['Route_Link'] = df2023['Route_Link'].str.replace('&.*', '', regex=True) #Regex was needed to compensate for an output error in the 2023 data.\n",
    "df2023[['latitude','longitude']] = df2023.Route_Link.str.split(\",\",expand=True,)\n",
    "df2023 = df2023.drop('Route_Link', axis=1)\n",
    "\n",
    "#I need to clean that before I can calculate the duration.\n",
    "#The reported_on time and the end_date are the same timestamps but I'm keeping the strip code in just in case.\n",
    "df2023['End_Date'] = df2023['End_Date'].str.replace('+00:00', '')\n",
    "df2023['Duration_Default'] = pd.to_datetime(df2023['End_Date']) - pd.to_datetime(df2023['Reported_On'])\n",
    "df2023['Duration_Hours'] = df2023['Duration_Default'].dt.total_seconds() / 3600\n",
    "\n",
    "#Print the first 3 rows just to check the data.\n",
    "print(df2023.head(3))\n",
    "\n",
    "#Export the clean 2023 dataset to a csv file to show progress.\n",
    "df2023.to_csv(\"kytc-closures-2023.csv\", index=False)"
   ]
  },
  {
   "cell_type": "code",
   "execution_count": 5,
   "metadata": {},
   "outputs": [
    {
     "name": "stdout",
     "output_type": "stream",
     "text": [
      "   District   County   Route          Road_Name  Begin_MP  End_MP  \\\n",
      "0         1  Ballard  KY-310  TURNER LANDING RD       6.0     6.0   \n",
      "1         1  Ballard  KY-310  TURNER LANDING RD       6.0     6.0   \n",
      "2         1  Ballard  KY-358     HINKLEVILLE RD       4.0     4.0   \n",
      "\n",
      "                                            Comments          Reported_On  \\\n",
      "0  Roadway blocked due to flooding. Updates as av...  2023-07-19 17:58:02   \n",
      "1     Road blocked due to flooding at this location.  2023-07-26 12:29:13   \n",
      "2  Roadway blocked due to flooding. Updates as av...  2023-07-19 18:00:48   \n",
      "\n",
      "              End_Date   latitude   longitude Duration_Default  Duration_Hours  \n",
      "0  2023-07-22 20:02:01  37.131104    -89.0201  3 days 02:03:59       74.066389  \n",
      "1  2023-07-26 15:10:01  37.131104    -89.0201  0 days 02:40:48        2.680000  \n",
      "2  2023-07-22 20:06:00  37.046533  -88.933658  3 days 02:05:12       74.086667  \n"
     ]
    }
   ],
   "source": [
    "#Analyze the 2024 dataset.\n",
    "#Expect results to change: this dataset will be updated throughout the year, as events occur.\n",
    "#This will produce different calculations as the year progresses.\n",
    "\n",
    "#Load the 2022 dataset from the web server. \n",
    "df2024=pd.read_csv(\"https://storage.googleapis.com/kytc-its-2020-openrecords/toc/KYTC-TOC-Weather-Closures-Historic-2024.csv\")\n",
    "\n",
    "#Export the 2022 dataset to a csv file as a method of copying the data to the local machine. \n",
    "df2024.to_csv(\"KYTC-TOC-Weather-Closures-Historic-2024.csv\", index=False)\n",
    "\n",
    "#The url needs to be cleaned.\n",
    "#Beginning in 2022, the url is different, requiring some additional stripping.\n",
    "#The placement of latitude and longitude are consistent between 2022-2024 but the ending of the URL in 2023 forced me to use a regex.\n",
    "df2024['Route_Link'] = df2024['Route_Link'].str.replace('https://goky.ky.gov/?lat=','')\n",
    "df2024['Route_Link'] = df2024['Route_Link'].str.replace('&lng=',',')\n",
    "df2024['Route_Link'] = df2024['Route_Link'].str.replace('&.*', '', regex=True)\n",
    "df2024[['latitude','longitude']] = df2024.Route_Link.str.split(\",\",expand=True,)\n",
    "df2024 = df2024.drop('Route_Link', axis=1)\n",
    "\n",
    "#I need to clean that before I can calculate the duration.\n",
    "#The reported_on time and the end_date are the same timestamps but I'm keeping the strip code in just in case.\n",
    "df2024['End_Date'] = df2024['End_Date'].str.replace('+00:00', '')\n",
    "df2024['Duration_Default'] = pd.to_datetime(df2023['End_Date']) - pd.to_datetime(df2024['Reported_On'])\n",
    "df2024['Duration_Hours'] = df2024['Duration_Default'].dt.total_seconds() / 3600\n",
    "\n",
    "#Print the first 3 rows just to check the data.\n",
    "print(df2024.head(3))\n",
    "\n",
    "#Export the clean 2023 dataset to a csv file to show progress.\n",
    "df2024.to_csv(\"kytc-closures-2024.csv\", index=False)"
   ]
  },
  {
   "cell_type": "code",
   "execution_count": 6,
   "metadata": {},
   "outputs": [],
   "source": [
    "#Merge the dataframes together.\n",
    "\n"
   ]
  },
  {
   "cell_type": "markdown",
   "metadata": {},
   "source": [
    "- Feature list #3 choice: Make 3 matplotlib (or another plotting library) visualizations to display your data.\n",
    "- Feature list #3 optonal: I may use Tableau if I have time."
   ]
  },
  {
   "cell_type": "code",
   "execution_count": 7,
   "metadata": {},
   "outputs": [],
   "source": [
    "#quantify the total count of road closures by year"
   ]
  },
  {
   "cell_type": "code",
   "execution_count": 8,
   "metadata": {},
   "outputs": [],
   "source": [
    "#quantify the total count of road closures by county"
   ]
  },
  {
   "cell_type": "code",
   "execution_count": 9,
   "metadata": {},
   "outputs": [],
   "source": [
    "#quantify the count of closures by individual roadways"
   ]
  },
  {
   "cell_type": "code",
   "execution_count": 10,
   "metadata": {},
   "outputs": [],
   "source": [
    "#quantify the duration of closures by year"
   ]
  },
  {
   "cell_type": "code",
   "execution_count": 11,
   "metadata": {},
   "outputs": [],
   "source": [
    "#quantify the duration of closures by county"
   ]
  },
  {
   "cell_type": "code",
   "execution_count": 12,
   "metadata": {},
   "outputs": [],
   "source": [
    "#quantify the duration of closures by road"
   ]
  },
  {
   "cell_type": "code",
   "execution_count": 13,
   "metadata": {},
   "outputs": [],
   "source": [
    "#BONUS:  Map our the clsoures on a geospacial map.\n",
    "#possible methods include using folium or geopandas.\n",
    "\n",
    "#https://python-visualization.github.io/folium/latest/getting_started.html"
   ]
  },
  {
   "cell_type": "code",
   "execution_count": 14,
   "metadata": {},
   "outputs": [],
   "source": [
    "#BONUS:  Perform the entire analysis in PowerBI and leave the file in the repository."
   ]
  }
 ],
 "metadata": {
  "kernelspec": {
   "display_name": ".venv",
   "language": "python",
   "name": "python3"
  },
  "language_info": {
   "codemirror_mode": {
    "name": "ipython",
    "version": 3
   },
   "file_extension": ".py",
   "mimetype": "text/x-python",
   "name": "python",
   "nbconvert_exporter": "python",
   "pygments_lexer": "ipython3",
   "version": "3.11.7"
  }
 },
 "nbformat": 4,
 "nbformat_minor": 2
}
